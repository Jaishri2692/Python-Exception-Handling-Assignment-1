{
 "cells": [
  {
   "cell_type": "code",
   "execution_count": null,
   "id": "92a186b8-fdea-4217-a8a7-0be0376241bc",
   "metadata": {},
   "outputs": [],
   "source": [
    "# Q1. What is an Exception in python? Write the difference between Exceptions and syntax errors.\n",
    "\"\"\"\n",
    "An exception is an event, which occurs during the execution of a program that disrupts the normal flow \n",
    "of the program's instructions. In general, when a Python script encounters a situation that it cannot \n",
    "cope with, it raises an exception. An exception is a Python object that represents an error.\n",
    "\"\"\"\n",
    "\"\"\"\n",
    "An error is an issue in a program that prevents the program from completing its task. \n",
    "In comparison, an exception is a condition that interrupts the normal flow of the program. \n",
    "\"\"\""
   ]
  },
  {
   "cell_type": "code",
   "execution_count": 25,
   "id": "27266987-113e-433f-b080-e13ae44a76ff",
   "metadata": {},
   "outputs": [
    {
     "name": "stderr",
     "output_type": "stream",
     "text": [
      "E\n",
      "======================================================================\n",
      "ERROR: /home/jovyan/ (unittest.loader._FailedTest)\n",
      "----------------------------------------------------------------------\n",
      "AttributeError: module '__main__' has no attribute '/home/jovyan/'\n",
      "\n",
      "----------------------------------------------------------------------\n",
      "Ran 1 test in 0.001s\n",
      "\n",
      "FAILED (errors=1)\n"
     ]
    },
    {
     "ename": "SystemExit",
     "evalue": "True",
     "output_type": "error",
     "traceback": [
      "An exception has occurred, use %tb to see the full traceback.\n",
      "\u001b[0;31mSystemExit\u001b[0m\u001b[0;31m:\u001b[0m True\n"
     ]
    },
    {
     "name": "stderr",
     "output_type": "stream",
     "text": [
      "/opt/conda/lib/python3.10/site-packages/IPython/core/interactiveshell.py:3441: UserWarning: To exit: use 'exit', 'quit', or Ctrl-D.\n",
      "  warn(\"To exit: use 'exit', 'quit', or Ctrl-D.\", stacklevel=1)\n"
     ]
    }
   ],
   "source": [
    "# Q2. What happens when an exception is not handled? Explain with an example.\n",
    "\"\"\"\n",
    "If the exception is not handled by an except clause, the exception is re-raised \n",
    "after the finally clause has been executed.\n",
    "\"\"\"\n",
    "import unittest\n",
    "  \n",
    "class MyTestCase(unittest.TestCase):\n",
    "  \n",
    "  # Returns true if Jaishri.txt file is not present and raises an EnvironmentError Exception\n",
    "  # In this example expected exception is RuntimeError while generated exception is EnvironmentError, \n",
    "  # thus returns false\n",
    "    def test_1(self):\n",
    "        with self.assertRaises(RuntimeError):\n",
    "            file = open(\"Jaishri.txt\", 'r')\n",
    "  \n",
    "if __name__ == '__main__':\n",
    "    unittest.main()"
   ]
  },
  {
   "cell_type": "code",
   "execution_count": null,
   "id": "4467a664-172b-4b14-aadd-bae9c5a4b4a9",
   "metadata": {},
   "outputs": [],
   "source": [
    "# When we try to open a file that does not exists, it raises an IOError which is sub class of EnvironmentError. \n",
    "# In the above example, the unittest failed because the type of exception to be raised by function was expected \n",
    "# to be of type RuntimeError, instead it raised an exception of EnvironmentError. Since the exception raised \n",
    "# and exception expected are different, it produces an error."
   ]
  },
  {
   "cell_type": "code",
   "execution_count": 24,
   "id": "ce6e1920-9a66-4d2a-bd18-fd8b21d07036",
   "metadata": {},
   "outputs": [],
   "source": [
    "# Q3. Which Python statements are used to catch and handle exceptions? Explain with an example.\n",
    "\n",
    "\"\"\" The try and except block in Python is used to catch and handle exceptions.\"\"\"\n",
    "# Python executes code following the try statement as a “normal” part of the program. The code that \n",
    "# follows the except statement is the program’s response to any exceptions in the preceding try clause.\n",
    "\n",
    "# try:\n",
    "#     {\n",
    "#         Run This Code\n",
    "#     }\n",
    "# except:\n",
    "#     {\n",
    "#        Execute this code when there is an exception \n",
    "#     }"
   ]
  },
  {
   "cell_type": "code",
   "execution_count": 31,
   "id": "b4c35de9-c718-41c5-8374-c830e2847a77",
   "metadata": {},
   "outputs": [
    {
     "name": "stdout",
     "output_type": "stream",
     "text": [
      "[Errno 2] No such file or directory: 'file.log'\n"
     ]
    }
   ],
   "source": [
    "# Exception FileNotFoundError\n",
    "\n",
    "# Raised when a file or directory is requested but doesn’t exist. \n",
    "# To catch this type of exception and print it to screen, you could use the following code:\n",
    "try:\n",
    "    with open('file.log') as file:\n",
    "        read_data = file.read()\n",
    "except FileNotFoundError as fnf_error:\n",
    "    print(fnf_error)\n",
    "# In this case, if file.log does not exist, the output will be the following:    "
   ]
  },
  {
   "cell_type": "code",
   "execution_count": null,
   "id": "33b0a5a7-b973-40a8-8c81-2a73b0be884b",
   "metadata": {},
   "outputs": [],
   "source": [
    "# Q4. Explain with Example:\n",
    "# 1. try and else\n",
    "# 2. finally\n",
    "# 3. raise\n",
    "\"\"\"\n",
    "Try: This block will test the excepted error to occur\n",
    "\n",
    "Except:  Here you can handle the error\n",
    "\n",
    "Else: If there is no exception then this block will be executed\n",
    "\n",
    "Finally: Finally block always gets executed either exception is generated or not\n",
    "\n",
    "Raise: As a Python developer you can choose to throw an exception if a condition occurs.\n",
    "        To throw (or raise) an exception, use the raise keyword.\n",
    "\"\"\""
   ]
  },
  {
   "cell_type": "code",
   "execution_count": 32,
   "id": "2a5382cf-a9bd-4f46-be5f-7c058e20cbd9",
   "metadata": {},
   "outputs": [
    {
     "name": "stdout",
     "output_type": "stream",
     "text": [
      "Hello\n",
      "Nothing went wrong\n"
     ]
    }
   ],
   "source": [
    "# 1. try and else\n",
    "\n",
    "try:\n",
    "  print(\"Hello\")\n",
    "except:\n",
    "  print(\"Something went wrong\")\n",
    "else:\n",
    "  print(\"Nothing went wrong\")"
   ]
  },
  {
   "cell_type": "code",
   "execution_count": 33,
   "id": "b28e4531-c2b4-4f81-b6c5-ea8b1a9e598a",
   "metadata": {},
   "outputs": [
    {
     "name": "stdout",
     "output_type": "stream",
     "text": [
      "Something went wrong\n",
      "The 'try except' is finished\n"
     ]
    }
   ],
   "source": [
    "# 2. finally\n",
    "\n",
    "try:\n",
    "  print(x)\n",
    "except:\n",
    "  print(\"Something went wrong\")\n",
    "finally:\n",
    "  print(\"The 'try except' is finished\")"
   ]
  },
  {
   "cell_type": "code",
   "execution_count": 34,
   "id": "192ba430-12b5-4ad2-8030-769733aa879f",
   "metadata": {},
   "outputs": [
    {
     "ename": "Exception",
     "evalue": "Sorry, no numbers below zero",
     "output_type": "error",
     "traceback": [
      "\u001b[0;31m---------------------------------------------------------------------------\u001b[0m",
      "\u001b[0;31mException\u001b[0m                                 Traceback (most recent call last)",
      "Cell \u001b[0;32mIn[34], line 8\u001b[0m\n\u001b[1;32m      5\u001b[0m x \u001b[38;5;241m=\u001b[39m \u001b[38;5;241m-\u001b[39m\u001b[38;5;241m1\u001b[39m\n\u001b[1;32m      7\u001b[0m \u001b[38;5;28;01mif\u001b[39;00m x \u001b[38;5;241m<\u001b[39m \u001b[38;5;241m0\u001b[39m:\n\u001b[0;32m----> 8\u001b[0m   \u001b[38;5;28;01mraise\u001b[39;00m \u001b[38;5;167;01mException\u001b[39;00m(\u001b[38;5;124m\"\u001b[39m\u001b[38;5;124mSorry, no numbers below zero\u001b[39m\u001b[38;5;124m\"\u001b[39m)\n",
      "\u001b[0;31mException\u001b[0m: Sorry, no numbers below zero"
     ]
    }
   ],
   "source": [
    "# 3. raise\n",
    "\n",
    "# Raise an error and stop the program if x is lower than 0:\n",
    "\n",
    "x = -1\n",
    "\n",
    "if x < 0:\n",
    "  raise Exception(\"Sorry, no numbers below zero\")\n",
    "# The raise keyword is used to raise an exception.\n",
    "\n",
    "# You can define what kind of error to raise, and the text to print to the user."
   ]
  },
  {
   "cell_type": "code",
   "execution_count": null,
   "id": "7534eb8c-cbff-4751-b280-344634b51299",
   "metadata": {},
   "outputs": [],
   "source": [
    "# Q5. What are custom exceptions in python? Explain with an example.\n",
    "\"\"\"\n",
    "Custom or User-defined Exceptions are designed as per the requirement of the program. \n",
    "Using custom Exception we can have our own Exception and a meaningful message explaining \n",
    "the cause of the exception.We can create an exception by extending the Exception or RuntimeException\n",
    "class in our own Exception class.\n",
    "\"\"\"\n",
    "\"\"\"\n",
    "In Python, we can define custom exceptions by creating a new class that is derived from the \n",
    "built-in Exception class.\n",
    "\n",
    "Here's the syntax to define custom exceptions\n",
    "\n",
    "class CustomError(Exception):\n",
    "    ...\n",
    "    pass\n",
    "\n",
    "try:\n",
    "   ...\n",
    "\n",
    "except CustomError:\n",
    "    ...\n",
    "    \n",
    "    \n",
    "Here, \"CustomError\" is a user-defined error which inherits from the \"Exception\" class.    \n",
    "\"\"\"    "
   ]
  },
  {
   "cell_type": "code",
   "execution_count": 38,
   "id": "e711902b-dc37-4063-a954-4fefe8852f77",
   "metadata": {},
   "outputs": [
    {
     "name": "stdout",
     "output_type": "stream",
     "text": [
      "This is a custom exception\n"
     ]
    }
   ],
   "source": [
    "# Example 1: Custom Exception with a Custom Message\n",
    "\n",
    "class CustomException(Exception):\n",
    "    def __init__(self, message):\n",
    "        super().__init__(message)\n",
    "\n",
    "try:\n",
    "    raise CustomException(\"This is a custom exception\")\n",
    "except CustomException as e:\n",
    "    print(e)\n",
    "    \n",
    "# In the above example, we have created a custom exception called CustomException with a custom message. \n",
    "# We have also defined an __init__ method that properly initializes the base class Exception with the custom \n",
    "# message.In the try block, we have raised the CustomException with a custom message. In the except block, \n",
    "# we have caught the CustomException and printed the custom message.    "
   ]
  },
  {
   "cell_type": "code",
   "execution_count": 39,
   "id": "1275e15d-e29e-44ee-b07c-137f0c99b479",
   "metadata": {},
   "outputs": [
    {
     "name": "stdout",
     "output_type": "stream",
     "text": [
      "This is a custom exception: 10, 20\n"
     ]
    }
   ],
   "source": [
    "# Example 2: Custom Exception with Multiple Parameters\n",
    "\n",
    "class CustomException(Exception):\n",
    "    def __init__(self, message, param1, param2):\n",
    "        super().__init__(message)\n",
    "        self.param1 = param1\n",
    "        self.param2 = param2\n",
    "\n",
    "try:\n",
    "    raise CustomException(\"This is a custom exception\", 10, 20)\n",
    "except CustomException as e:\n",
    "    print(f\"{e}: {e.param1}, {e.param2}\")\n",
    "    \n",
    "# In the above example, we have created a custom exception called CustomException with multiple parameters. \n",
    "# We have defined an __init__ method that initializes the base Exception class and sets the message and parameter \n",
    "# attributes. In the try block, we have raised the CustomException with a custom message and two parameters. \n",
    "# In the except block, we have caught the CustomException and printed the custom message and parameters.    "
   ]
  },
  {
   "cell_type": "code",
   "execution_count": 40,
   "id": "eb78d385-a541-4435-acaf-73b5d15b80fd",
   "metadata": {},
   "outputs": [
    {
     "name": "stdout",
     "output_type": "stream",
     "text": [
      "This is a custom exception\n"
     ]
    }
   ],
   "source": [
    "# Example 3: Custom Exception with a Default Message\n",
    "\n",
    "class CustomException(Exception):\n",
    "    def __init__(self, message=\"This is a custom exception\"):\n",
    "        super().__init__(message)\n",
    "\n",
    "try:\n",
    "    raise CustomException()\n",
    "except CustomException as e:\n",
    "    print(e)\n",
    "    \n",
    "# In the above example, we have created a custom exception called CustomException with a default message. \n",
    "# We have defined an __init__ method that initializes the base Exception class and sets the message attribute \n",
    "# with a default value. In the try block, we have raised the CustomException without specifying a custom message. \n",
    "# In the except block, we have caught the CustomException and printed the default message.    "
   ]
  },
  {
   "cell_type": "code",
   "execution_count": 41,
   "id": "937d5b9a-d18c-41ea-83db-f572e66abb6a",
   "metadata": {},
   "outputs": [
    {
     "name": "stdout",
     "output_type": "stream",
     "text": [
      "This is a custom exception\n",
      "NoneType: None\n",
      "\n"
     ]
    }
   ],
   "source": [
    "# Example 4: Custom Exception with a Traceback\n",
    "\n",
    "import traceback\n",
    "\n",
    "class CustomException(Exception):\n",
    "    def __init__(self, message):\n",
    "        super().__init__(message)\n",
    "        self.traceback = traceback.format_exc()\n",
    "\n",
    "try:\n",
    "    raise CustomException(\"This is a custom exception\")\n",
    "except CustomException as e:\n",
    "    print(e)\n",
    "    print(e.traceback)\n",
    "    \n",
    "    \n",
    "# In the above example, we have created a custom exception called CustomException with a traceback. \n",
    "# We have imported the traceback module and used the format_exc function to get the traceback information. \n",
    "# In the __init__ method, we have initialized the base Exception class and set the traceback attribute. \n",
    "# In the try block, we have raised the CustomException with a custom message. In the except block, we have \n",
    "# caught the CustomException and printed the custom message and traceback.    "
   ]
  },
  {
   "cell_type": "code",
   "execution_count": 42,
   "id": "dbc95b45-4378-4ade-b44b-aca900d88359",
   "metadata": {},
   "outputs": [
    {
     "name": "stdout",
     "output_type": "stream",
     "text": [
      "This is a custom exception (Error code: 404)\n"
     ]
    }
   ],
   "source": [
    "# Example 5: Custom Exception with a Specific Error Code\n",
    "\n",
    "class CustomException(Exception):\n",
    "    def __init__(self, message, code):\n",
    "        super().__init__(message)\n",
    "        self.code = code\n",
    "\n",
    "try:\n",
    "    raise CustomException(\"This is a custom exception\", 404)\n",
    "except CustomException as e:\n",
    "    print(f\"{e} (Error code: {e.code})\")\n",
    "    \n",
    "# In the above example, we have created a custom exception called CustomException with a specific error code. \n",
    "# We have defined an __init__ method that initializes the base Exception class and sets the message and code\n",
    "# attributes. In the try block, we have raised the CustomException with a custom message and error code. \n",
    "# In the except block, we have caught the CustomException and printed the custom message and error code.    "
   ]
  },
  {
   "cell_type": "code",
   "execution_count": 37,
   "id": "e946ca71-9194-4027-8838-eb6d7c4914a0",
   "metadata": {},
   "outputs": [
    {
     "name": "stdin",
     "output_type": "stream",
     "text": [
      "Enter a number:  12\n"
     ]
    },
    {
     "name": "stdout",
     "output_type": "stream",
     "text": [
      "Exception occurred: Invalid Age\n"
     ]
    }
   ],
   "source": [
    "\n",
    "\n",
    "# Q6. Create a custom exception class. Use this class to handle an exception.\n",
    "\n",
    "\n",
    "# define Python user-defined or custom exceptions\n",
    "\n",
    "class InvalidAgeException(Exception):\n",
    "    \"Raised when the input value is less than 18\"\n",
    "    pass\n",
    "\n",
    "# you need to guess this number\n",
    "number = 18\n",
    "\n",
    "try:\n",
    "    input_num = int(input(\"Enter a number: \"))\n",
    "    if input_num < number:\n",
    "        raise InvalidAgeException\n",
    "    else:\n",
    "        print(\"Eligible to Vote\")\n",
    "        \n",
    "except InvalidAgeException:\n",
    "    print(\"Exception occurred: Invalid Age\")\n",
    "    \n",
    "# In the above example, we have defined the custom exception InvalidAgeException \n",
    "# by creating a new class that is derived from the built-in Exception class.\n",
    "\n",
    "# Here, when input_num is smaller than 18, this code generates an exception.    "
   ]
  },
  {
   "cell_type": "code",
   "execution_count": null,
   "id": "5c54b5ef-94c9-4a11-9eb0-90a6bbf913f7",
   "metadata": {},
   "outputs": [],
   "source": []
  }
 ],
 "metadata": {
  "kernelspec": {
   "display_name": "Python 3 (ipykernel)",
   "language": "python",
   "name": "python3"
  },
  "language_info": {
   "codemirror_mode": {
    "name": "ipython",
    "version": 3
   },
   "file_extension": ".py",
   "mimetype": "text/x-python",
   "name": "python",
   "nbconvert_exporter": "python",
   "pygments_lexer": "ipython3",
   "version": "3.10.8"
  }
 },
 "nbformat": 4,
 "nbformat_minor": 5
}
